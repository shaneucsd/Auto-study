{
 "cells": [
  {
   "cell_type": "markdown",
   "metadata": {},
   "source": [
    "\"\"\"\n",
    "该文档仅供娱乐，请勿用作商业用途\n",
    "\"\"\"\n",
    "# Auto_study\n",
    "## 1.Introduction\n",
    "腾讯课堂的自动进入课堂程序，保证学生在课前5分钟自动打开课堂界面，强制进入学习。\n",
    "## 2.Setup\n",
    "1. 查询目前chrome应用程序的版本并下载[chromedriver](https://sites.google.com/a/chromium.org/chromedriver/downloads)，需下载与本地chrome对应的chromedriver版本<br>\n",
    "2. 下载selenium \n",
    "\n",
    "    pip install selenium -i https://pypi.tuna.tsinghua.edu.cn'\n",
    "    \n",
    "\n",
    "3. 替代chromedriver 路径\n",
    "    <br>进入auto_dont_study.py的get_driver\n",
    "    <br>用chromedriver的路径替换 driver = webdriver.Chrome('chromedriver的路径')"
   ]
  },
  {
   "cell_type": "markdown",
   "metadata": {},
   "source": [
    "## 3.Using\n",
    "### 3.1首次登陆，保存cookies到本地"
   ]
  },
  {
   "cell_type": "code",
   "execution_count": null,
   "metadata": {},
   "outputs": [],
   "source": [
    "from auto_study import auto_study\n",
    "study = auto_study()\n",
    "study.login(first_time=True)\n",
    "study.quit()"
   ]
  },
  {
   "cell_type": "markdown",
   "metadata": {},
   "source": [
    "### 3.2自动开始一节课的学习\n",
    "    1.新建该目录下新建一个python文件,如 essay_study.py\n",
    "    2.在腾讯课堂中记录课程名字(腾讯课堂显示的名字），传入coursename参数\n",
    "    3.将课程时间（分钟）传入course_time_by_minute参数\n",
    "    4.每次开始学习一节课就按上述方法创建一个python文件"
   ]
  },
  {
   "cell_type": "code",
   "execution_count": null,
   "metadata": {},
   "outputs": [],
   "source": [
    "#essay_study内容\n",
    "from auto_study import auto_study\n",
    "study = auto_study()\n",
    "study.login()\n",
    "study.study(course_name='经贸研究与论文写作-2-谢红军',course_time_by_minute=90)"
   ]
  },
  {
   "cell_type": "markdown",
   "metadata": {},
   "source": [
    "### 3.3定时开始一节课\n",
    "\n",
    "你须是mac/linux系统才能用这个命令\n",
    "#### 制作定时命令\n",
    "1. 制作定时命令的时间部分 格式如下\n",
    "     分钟 小时 * * 周几 \n",
    "     <br>e.g:\n",
    "     如果要在周一的8点59分进入课堂,命令如下：\n",
    "     ```59 8 * * 1```"
   ]
  },
  {
   "cell_type": "markdown",
   "metadata": {},
   "source": [
    "2. 制作定时命令的python部分\n",
    "    * 打开Terminal，输入 ```which python```\n",
    "    <br>复制输出结果\n",
    "    e.g:\n",
    "    ```/usr/bin/python```"
   ]
  },
  {
   "cell_type": "markdown",
   "metadata": {},
   "source": [
    "3. 制作定时命令的python文件部分\n",
    "    * 打开Terminal，将要运行的课程文件拖入terminal<br>复制输出结果\n",
    "    e.g:\n",
    "    ```/usr/Ciwei/essay_study.py```"
   ]
  },
  {
   "cell_type": "markdown",
   "metadata": {},
   "source": [
    "4. 将三部分命令拼在一起，就是定时命令\n",
    "    <br>e.g:\n",
    "    ```59 8 * * 1 /usr/bin/python /usr/Ciwei/essay_study.py```"
   ]
  },
  {
   "cell_type": "markdown",
   "metadata": {},
   "source": [
    "**坚持！就差最后一步了！！！！！！**"
   ]
  },
  {
   "cell_type": "markdown",
   "metadata": {},
   "source": [
    "#### 在crontab中配置这个定时命令\n",
    "\n",
    "* 在Terminal中输入\n",
    "```crontab -e```\n",
    "* 按i键进入vim编辑, 将上述命令粘贴至新的一行\n",
    "* 按Esc键退出编辑，依次按下wqZZ保存并退出crontab\n"
   ]
  },
  {
   "cell_type": "markdown",
   "metadata": {},
   "source": [
    "### 完成！ 开始愉快地学习吧！\n",
    "自动上课虽然很爽，但是一定要认真听课噢！"
   ]
  }
 ],
 "metadata": {
  "kernelspec": {
   "display_name": "Python 3",
   "language": "python",
   "name": "python3"
  },
  "language_info": {
   "codemirror_mode": {
    "name": "ipython",
    "version": 3
   },
   "file_extension": ".py",
   "mimetype": "text/x-python",
   "name": "python",
   "nbconvert_exporter": "python",
   "pygments_lexer": "ipython3",
   "version": "3.7.4"
  }
 },
 "nbformat": 4,
 "nbformat_minor": 2
}
